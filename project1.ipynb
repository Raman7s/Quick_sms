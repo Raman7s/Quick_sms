{
 "cells": [
  {
   "cell_type": "code",
   "execution_count": 1,
   "id": "83e6f647",
   "metadata": {},
   "outputs": [],
   "source": [
    "#sending SMS updates on mobile phone using python.\n",
    "#fast2SMS\n",
    "#using API"
   ]
  },
  {
   "cell_type": "code",
   "execution_count": 1,
   "id": "51bd1bd3",
   "metadata": {},
   "outputs": [
    {
     "name": "stdout",
     "output_type": "stream",
     "text": [
      "{\"return\":true,\"request_id\":\"jhza3lmkbdgctv9\",\"message\":[\"SMS sent successfully.\"]}\n"
     ]
    }
   ],
   "source": [
    "import requests\n",
    "\n",
    "\n",
    "url =\"https://www.fast2sms.com/dev/bulkV2\"\n",
    "api_key=\"6AliY2jRNCyc4bsWOZJ3Uhqw0o7uLtXexV9PnHk5FIGSzDQKT1S7K49XkweUBH2PDZ8Jhugdi3yjzW6r\"\n",
    "\n",
    "\n",
    "headers ={\n",
    "    \"authorization\" :\"6AliY2jRNCyc4bsWOZJ3Uhqw0o7uLtXexV9PnHk5FIGSzDQKT1S7K49XkweUBH2PDZ8Jhugdi3yjzW6r\"\n",
    "   }\n",
    "\n",
    "params ={\n",
    "    \"authorization\":\"6AliY2jRNCyc4bsWOZJ3Uhqw0o7uLtXexV9PnHk5FIGSzDQKT1S7K49XkweUBH2PDZ8Jhugdi3yjzW6r\",\n",
    "    \"message\":\"project done by your brother Raman\",\n",
    "    \"route\" : \"q\",\n",
    "    \"language\": \"english\",\n",
    "    \"numbers\" : \"8888888888\"\n",
    "}\n",
    "\n",
    "response = requests.request(\"GET\",url,headers=headers,params=params)\n",
    "print(response.text)"
   ]
  },
  {
   "cell_type": "code",
   "execution_count": null,
   "id": "7e51e993",
   "metadata": {},
   "outputs": [],
   "source": []
  }
 ],
 "metadata": {
  "kernelspec": {
   "display_name": "Python 3 (ipykernel)",
   "language": "python",
   "name": "python3"
  },
  "language_info": {
   "codemirror_mode": {
    "name": "ipython",
    "version": 3
   },
   "file_extension": ".py",
   "mimetype": "text/x-python",
   "name": "python",
   "nbconvert_exporter": "python",
   "pygments_lexer": "ipython3",
   "version": "3.9.7"
  }
 },
 "nbformat": 4,
 "nbformat_minor": 5
}
